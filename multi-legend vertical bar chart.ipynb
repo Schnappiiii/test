{
 "cells": [
  {
   "cell_type": "code",
   "execution_count": 1,
   "metadata": {},
   "outputs": [],
   "source": [
    "import os\n",
    "import shutil as sh\n",
    "import sys\n",
    "import glob\n",
    "import fitz\n",
    "import pytesseract\n",
    "from io import StringIO\n",
    "from icecream import ic\n",
    "from collections import defaultdict\n",
    "import copy\n",
    "\n",
    "import numpy as np\n",
    "import random\n",
    "import cv2\n",
    "import pandas as pd\n",
    "from PIL import Image\n",
    "from matplotlib import pyplot as plt \n",
    "\n",
    "from GoogleVisionAPI_OCR import get_text\n",
    "import draw_bbox \n",
    "import warnings\n",
    "warnings.filterwarnings(\"ignore\")"
   ]
  },
  {
   "cell_type": "code",
   "execution_count": 2,
   "metadata": {},
   "outputs": [
    {
     "name": "stdout",
     "output_type": "stream",
     "text": [
      "Directory already exist.\n"
     ]
    },
    {
     "ename": "UnboundLocalError",
     "evalue": "local variable 'df_prediction' referenced before assignment",
     "output_type": "error",
     "traceback": [
      "\u001b[0;31m---------------------------------------------------------------------------\u001b[0m",
      "\u001b[0;31mUnboundLocalError\u001b[0m                         Traceback (most recent call last)",
      "\u001b[0;32m/var/folders/1k/w8lbft756w31b9fnbw8gs8lc0000gn/T/ipykernel_2474/3757413066.py\u001b[0m in \u001b[0;36m<module>\u001b[0;34m\u001b[0m\n\u001b[1;32m      3\u001b[0m \u001b[0mbbox_save_path\u001b[0m \u001b[0;34m=\u001b[0m \u001b[0;34m'/Users/schnappiiii/juypter_notebook/Bundesbank/data_extraction/chart_type/multi-legend vertical bar chart/bbox_img'\u001b[0m\u001b[0;34m\u001b[0m\u001b[0;34m\u001b[0m\u001b[0m\n\u001b[1;32m      4\u001b[0m \u001b[0mdf_prediction\u001b[0m \u001b[0;34m=\u001b[0m \u001b[0mdraw_bbox\u001b[0m\u001b[0;34m.\u001b[0m\u001b[0mdf_prediction\u001b[0m\u001b[0;34m(\u001b[0m\u001b[0mbbox_text\u001b[0m\u001b[0;34m,\u001b[0m \u001b[0mimage_folder\u001b[0m\u001b[0;34m)\u001b[0m\u001b[0;34m\u001b[0m\u001b[0;34m\u001b[0m\u001b[0m\n\u001b[0;32m----> 5\u001b[0;31m \u001b[0mdraw_bbox\u001b[0m\u001b[0;34m.\u001b[0m\u001b[0mdraw_bbox\u001b[0m\u001b[0;34m(\u001b[0m\u001b[0mbbox_text\u001b[0m\u001b[0;34m,\u001b[0m \u001b[0mimage_folder\u001b[0m\u001b[0;34m,\u001b[0m \u001b[0mbbox_save_path\u001b[0m\u001b[0;34m)\u001b[0m\u001b[0;34m\u001b[0m\u001b[0;34m\u001b[0m\u001b[0m\n\u001b[0m",
      "\u001b[0;32m~/juypter_notebook/Bundesbank/data_extraction/draw_bbox.py\u001b[0m in \u001b[0;36mdraw_bbox\u001b[0;34m(bbox_text, image_folder, bbox_save_path)\u001b[0m\n\u001b[1;32m     58\u001b[0m     \u001b[0;31m# draw\u001b[0m\u001b[0;34m\u001b[0m\u001b[0;34m\u001b[0m\u001b[0;34m\u001b[0m\u001b[0m\n\u001b[1;32m     59\u001b[0m     \u001b[0mbbox_thick\u001b[0m \u001b[0;34m=\u001b[0m \u001b[0;36m1\u001b[0m\u001b[0;34m\u001b[0m\u001b[0;34m\u001b[0m\u001b[0m\n\u001b[0;32m---> 60\u001b[0;31m     \u001b[0;31m# get each image\u001b[0m\u001b[0;34m\u001b[0m\u001b[0;34m\u001b[0m\u001b[0;34m\u001b[0m\u001b[0m\n\u001b[0m\u001b[1;32m     61\u001b[0m     \u001b[0;32mfor\u001b[0m \u001b[0mi\u001b[0m \u001b[0;32min\u001b[0m \u001b[0mset\u001b[0m\u001b[0;34m(\u001b[0m\u001b[0mdf_prediction\u001b[0m\u001b[0;34m.\u001b[0m\u001b[0mimg_id\u001b[0m\u001b[0;34m.\u001b[0m\u001b[0mvalues\u001b[0m\u001b[0;34m)\u001b[0m\u001b[0;34m:\u001b[0m\u001b[0;34m\u001b[0m\u001b[0;34m\u001b[0m\u001b[0m\n\u001b[1;32m     62\u001b[0m         \u001b[0mimg\u001b[0m \u001b[0;34m=\u001b[0m \u001b[0mcv2\u001b[0m\u001b[0;34m.\u001b[0m\u001b[0mimread\u001b[0m\u001b[0;34m(\u001b[0m\u001b[0mos\u001b[0m\u001b[0;34m.\u001b[0m\u001b[0mpath\u001b[0m\u001b[0;34m.\u001b[0m\u001b[0mjoin\u001b[0m\u001b[0;34m(\u001b[0m\u001b[0mimage_folder\u001b[0m\u001b[0;34m,\u001b[0m \u001b[0mi\u001b[0m \u001b[0;34m+\u001b[0m \u001b[0;34m'.png'\u001b[0m\u001b[0;34m)\u001b[0m\u001b[0;34m)\u001b[0m\u001b[0;34m\u001b[0m\u001b[0;34m\u001b[0m\u001b[0m\n",
      "\u001b[0;31mUnboundLocalError\u001b[0m: local variable 'df_prediction' referenced before assignment"
     ]
    }
   ],
   "source": [
    "bbox_text = '/Users/schnappiiii/juypter_notebook/Bundesbank/data_extraction/chart_type/multi-legend vertical bar chart/bbox_prediction.txt'\n",
    "image_folder = '/Users/schnappiiii/juypter_notebook/Bundesbank/data_extraction/chart_type/multi-legend vertical bar chart/original'\n",
    "bbox_save_path = '/Users/schnappiiii/juypter_notebook/Bundesbank/data_extraction/chart_type/multi-legend vertical bar chart/bbox_img'\n",
    "df_prediction = draw_bbox.df_prediction(bbox_text, image_folder)\n",
    "draw_bbox.draw_bbox(bbox_text, image_folder, bbox_save_path, df_prediction)"
   ]
  },
  {
   "cell_type": "code",
   "execution_count": null,
   "metadata": {},
   "outputs": [],
   "source": [
    "# extract multi vertical bar chart\n",
    "multi_vertical_bar_path = '/Users/schnappiiii/Downloads/FigureQA/single-legend vertical bar chart'\n",
    "\n",
    "df_prediction['img_name'] = df_prediction.img_id.apply(lambda x: x+'.png')\n",
    "multi_vertical_bar_list = os.listdir(multi_vertical_bar_path)\n",
    "multi_vertical_bar_df = df_prediction[df_prediction.img_name.isin(multi_vertical_bar_list)]\n",
    "multi_vertical_bar_df.reset_index(inplace=True)\n",
    "multi_vertical_bar_df.drop(columns=['index', 'x_center', 'y_center', 'w', 'h'], inplace=True)\n",
    "multi_vertical_bar_df"
   ]
  },
  {
   "cell_type": "code",
   "execution_count": null,
   "metadata": {},
   "outputs": [],
   "source": []
  }
 ],
 "metadata": {
  "kernelspec": {
   "display_name": "pytorch_python37",
   "language": "python",
   "name": "python3"
  },
  "language_info": {
   "codemirror_mode": {
    "name": "ipython",
    "version": 3
   },
   "file_extension": ".py",
   "mimetype": "text/x-python",
   "name": "python",
   "nbconvert_exporter": "python",
   "pygments_lexer": "ipython3",
   "version": "3.7.11"
  },
  "orig_nbformat": 4,
  "vscode": {
   "interpreter": {
    "hash": "a856c511376e4fad5bf16bc9ec57d9c74a3ea67d15c55c34d53977b519b704db"
   }
  }
 },
 "nbformat": 4,
 "nbformat_minor": 2
}
